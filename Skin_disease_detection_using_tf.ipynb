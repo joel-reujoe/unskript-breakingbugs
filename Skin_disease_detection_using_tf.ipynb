{
  "nbformat": 4,
  "nbformat_minor": 0,
  "metadata": {
    "colab": {
      "name": "Skin disease detection using tf",
      "version": "0.3.2",
      "provenance": [],
      "collapsed_sections": []
    },
    "kernelspec": {
      "name": "python2",
      "display_name": "Python 2"
    },
    "accelerator": "GPU"
  },
  "cells": [
    {
      "metadata": {
        "id": "flTAFWZP6G8k",
        "colab_type": "code",
        "outputId": "1e0241cd-e8ac-4488-be7c-4b5b58a258a5",
        "colab": {
          "base_uri": "https://localhost:8080/",
          "height": 34
        }
      },
      "cell_type": "code",
      "source": [
        "from google.colab import drive\n",
        "drive.mount('/content/drive')\n"
      ],
      "execution_count": 34,
      "outputs": [
        {
          "output_type": "stream",
          "text": [
            "Drive already mounted at /content/drive; to attempt to forcibly remount, call drive.mount(\"/content/drive\", force_remount=True).\n"
          ],
          "name": "stdout"
        }
      ]
    },
    {
      "metadata": {
        "id": "PDkKXG-u6MaW",
        "colab_type": "code",
        "outputId": "b7ae1557-c446-4678-b9a5-19df1173f841",
        "colab": {
          "base_uri": "https://localhost:8080/",
          "height": 34
        }
      },
      "cell_type": "code",
      "source": [
        "cd drive/My Drive/hackathon"
      ],
      "execution_count": 0,
      "outputs": [
        {
          "output_type": "stream",
          "text": [
            "/content/drive/My Drive/hackathon\n"
          ],
          "name": "stdout"
        }
      ]
    },
    {
      "metadata": {
        "id": "gxvfmWrm7d46",
        "colab_type": "code",
        "outputId": "cee2a323-0d7a-43e8-eba9-38049115748b",
        "colab": {
          "base_uri": "https://localhost:8080/",
          "height": 34
        }
      },
      "cell_type": "code",
      "source": [
        "pwd"
      ],
      "execution_count": 35,
      "outputs": [
        {
          "output_type": "execute_result",
          "data": {
            "text/plain": [
              "u'/content/drive/My Drive/hackathon'"
            ]
          },
          "metadata": {
            "tags": []
          },
          "execution_count": 35
        }
      ]
    },
    {
      "metadata": {
        "id": "YKJmMQCT6vWd",
        "colab_type": "code",
        "colab": {}
      },
      "cell_type": "code",
      "source": [
        "import warnings\n",
        "warnings.filterwarnings('ignore') # suppress import warnings"
      ],
      "execution_count": 0,
      "outputs": []
    },
    {
      "metadata": {
        "id": "Nlo4xtcj66um",
        "colab_type": "code",
        "colab": {}
      },
      "cell_type": "code",
      "source": [
        "import os\n",
        "import cv2\n",
        "import tflearn\n",
        "import numpy as np\n",
        "import tensorflow as tf\n",
        "from random import shuffle\n",
        "from tqdm import tqdm \n",
        "from tflearn.layers.conv import conv_2d, max_pool_2d\n",
        "from tflearn.layers.core import input_data, dropout, fully_connected\n",
        "from tflearn.layers.estimator import regression"
      ],
      "execution_count": 0,
      "outputs": []
    },
    {
      "metadata": {
        "id": "vZZMRxRG69jL",
        "colab_type": "code",
        "colab": {}
      },
      "cell_type": "code",
      "source": [
        "!apt-get -qq install -y libsm6 libxext6 && pip install -q -U opencv-python\n",
        "import cv2\n"
      ],
      "execution_count": 0,
      "outputs": []
    },
    {
      "metadata": {
        "id": "rEqzvKjT7BMs",
        "colab_type": "code",
        "colab": {}
      },
      "cell_type": "code",
      "source": [
        "TRAIN_DIR = 'train1'\n",
        "TEST_DIR = 'test'\n",
        "IMG_SIZE = 50\n",
        "LR = 1e-3\n",
        "MODEL_NAME = '12skindiseasedetection-{}-{}.model'.format(LR, '2conv-basic')\n",
        "tf.logging.set_verbosity(tf.logging.ERROR) # suppress keep_dims warnings\n",
        "os.environ['TF_CPP_MIN_LOG_LEVEL'] = '3' # suppress tensorflow gpu logs\n",
        "tf.reset_default_graph()\n"
      ],
      "execution_count": 0,
      "outputs": []
    },
    {
      "metadata": {
        "id": "zi-QQOyR7jI6",
        "colab_type": "code",
        "outputId": "03d5feb8-33b1-4a6c-988d-c4a2c6e0acff",
        "colab": {
          "base_uri": "https://localhost:8080/",
          "height": 102
        }
      },
      "cell_type": "code",
      "source": [
        "def skin_label(img):\n",
        "    #img.split('-',1)[0]\n",
        "    skin_type = img.split('-',1)[0]\n",
        "    ans = [0,0,0,0]\n",
        "\n",
        "    if skin_type == 'acne': ans = [1,0,0,0]\n",
        "    elif skin_type == 'eczema': ans = [0,1,0,0]\n",
        "    elif skin_type == 'malignant': ans = [0,0,1,0]      \n",
        "    elif skin_type == 'psoriasis' or 'Psoriasis': ans = [0,0,0,1]   \n",
        "    return ans\n",
        "\n",
        "def create_training_data():\n",
        "\n",
        "    training_data = []\n",
        "\n",
        "    for img in tqdm(os.listdir(TRAIN_DIR)):\n",
        "        label = skin_label(img)\n",
        "        path = os.path.join(TRAIN_DIR,img)\n",
        "        img = cv2.imread(path,cv2.IMREAD_COLOR)\n",
        "        img = cv2.resize(img, (IMG_SIZE,IMG_SIZE))\n",
        "        training_data.append([np.array(img),np.array(label)])\n",
        "\n",
        "    shuffle(training_data)\n",
        "    np.save('train_data.npy', training_data)\n",
        "\n",
        "    return training_data\n",
        "\n",
        "def main():\n",
        "\n",
        "    train_data = create_training_data()\n",
        "\n",
        "    convnet = input_data(shape=[None, IMG_SIZE, IMG_SIZE, 3], name='input')\n",
        "\n",
        "    convnet = conv_2d(convnet, 32, 3, activation='relu')\n",
        "    convnet = max_pool_2d(convnet, 3)\n",
        "\n",
        "    convnet = conv_2d(convnet, 64, 3, activation='relu')\n",
        "    convnet = max_pool_2d(convnet, 3)\n",
        "\n",
        "    convnet = conv_2d(convnet, 128, 3, activation='relu')\n",
        "    convnet = max_pool_2d(convnet, 3)\n",
        "\n",
        "    convnet = conv_2d(convnet, 32, 3, activation='relu')\n",
        "    convnet = max_pool_2d(convnet, 3)\n",
        "\n",
        "    convnet = conv_2d(convnet, 64, 3, activation='relu')\n",
        "    convnet = max_pool_2d(convnet, 3)\n",
        "\n",
        "    convnet = fully_connected(convnet, 1024, activation='relu')\n",
        "    convnet = dropout(convnet, 0.8)\n",
        "\n",
        "    convnet = fully_connected(convnet, 4, activation='softmax')\n",
        "    convnet = regression(convnet, optimizer='adam', learning_rate=LR, loss='categorical_crossentropy', name='targets')\n",
        "\n",
        "    model = tflearn.DNN(convnet, tensorboard_dir='log')\n",
        "\n",
        "    if os.path.exists('{}.meta'.format(MODEL_NAME)):\n",
        "        model.load(MODEL_NAME)\n",
        "        print('Model Loaded')\n",
        "\n",
        "    train = train_data[:-600]\n",
        "    test = train_data[-50:]\n",
        "\n",
        "    X = np.array([i[0] for i in train]).reshape(-1,IMG_SIZE,IMG_SIZE,3)\n",
        "    Y = [i[1] for i in train]\n",
        "\n",
        "    test_x = np.array([i[0] for i in test]).reshape(-1,IMG_SIZE,IMG_SIZE,3)\n",
        "    test_y = [i[1] for i in test]\n",
        "\n",
        "    model.fit({'input': X}, {'targets': Y}, n_epoch=8, validation_set=({'input': test_x}, {'targets': test_y}), snapshot_step=40, show_metric=True, run_id=MODEL_NAME)\n",
        "\n",
        "    model.save(MODEL_NAME)\n",
        "\n",
        "if __name__ == '__main__': main()  \n"
      ],
      "execution_count": 44,
      "outputs": [
        {
          "output_type": "stream",
          "text": [
            "Training Step: 175  | total loss: \u001b[1m\u001b[32m0.73069\u001b[0m\u001b[0m | time: 1.487s\n",
            "| Adam | epoch: 008 | loss: 0.73069 - acc: 0.7054 -- iter: 1344/1372\n",
            "Training Step: 176  | total loss: \u001b[1m\u001b[32m0.70454\u001b[0m\u001b[0m | time: 2.514s\n",
            "| Adam | epoch: 008 | loss: 0.70454 - acc: 0.7177 | val_loss: 0.87193 - val_acc: 0.6600 -- iter: 1372/1372\n",
            "--\n"
          ],
          "name": "stdout"
        }
      ]
    },
    {
      "metadata": {
        "id": "Nxl07898EgSU",
        "colab_type": "code",
        "colab": {
          "base_uri": "https://localhost:8080/",
          "height": 102
        },
        "outputId": "9074814a-17a9-46a5-8da0-0db7a371a386"
      },
      "cell_type": "code",
      "source": [
        "import warnings\n",
        "warnings.filterwarnings('ignore') # suppress import warnings\n",
        "\n",
        "import os\n",
        "import sys\n",
        "import cv2\n",
        "import tflearn\n",
        "import numpy as np\n",
        "import tensorflow as tf\n",
        "from tflearn.layers.conv import conv_2d, max_pool_2d\n",
        "from tflearn.layers.core import input_data, dropout, fully_connected\n",
        "from tflearn.layers.estimator import regression\n",
        "\n",
        "''' <global actions> '''\n",
        "\n",
        "IMG_SIZE = 50\n",
        "LR = 1e-3\n",
        "MODEL_NAME = '12diseasedetection-{}-{}.model'.format(LR, '2conv-basic')\n",
        "tf.logging.set_verbosity(tf.logging.ERROR) # suppress keep_dims warnings\n",
        "os.environ['TF_CPP_MIN_LOG_LEVEL'] = '3' # suppress tensorflow gpu logs\n",
        "\n",
        "''' </global actions> '''\n",
        "\n",
        "def process_verify_data(filepath):\n",
        "\n",
        "\tverifying_data = []\n",
        "\n",
        "\timg_name = filepath.split('.')[0]\n",
        "\timg = cv2.imread(filepath, cv2.IMREAD_COLOR)\n",
        "\timg = cv2.resize(img, (IMG_SIZE, IMG_SIZE))\n",
        "\tverifying_data = [np.array(img), img_name]\n",
        "\t\n",
        "\tnp.save('verify_data.npy', verifying_data)\n",
        "\t\n",
        "\treturn verifying_data\n",
        "\n",
        "def analysis(filepath):\n",
        "\n",
        "\tverify_data = process_verify_data(filepath)\n",
        "\n",
        "\tstr_label = \"Cannot make a prediction.\"\n",
        "\tstatus = \"Error\"\n",
        "\n",
        "\ttf.reset_default_graph()\n",
        "\n",
        "\tconvnet = input_data(shape=[None, IMG_SIZE, IMG_SIZE, 3], name='input')\n",
        "\n",
        "\t'''\n",
        "\t# relu:\n",
        "\n",
        "\tRelu is used in the middle / hidden layers of the network to regularize the activation.\n",
        "\tIt is essentialy the function: max(0, x)\n",
        "\tActivation should not be in negative, either it should be zero or more than that.\n",
        "\n",
        "\t# softmax: \n",
        "\n",
        "\tSoftmax is used for the output layer in multi class classification problems.\n",
        "\tIt is essentialy the function: log(1 + e^x)\n",
        "\tIt outputs a vector of probabilities of each class.\n",
        "\n",
        "\t'''\n",
        "\t\n",
        "\tconvnet = conv_2d(convnet, 32, 3, activation='relu')\n",
        "\tconvnet = max_pool_2d(convnet, 3)\n",
        "\n",
        "\tconvnet = conv_2d(convnet, 64, 3, activation='relu')\n",
        "\tconvnet = max_pool_2d(convnet, 3)\n",
        "\n",
        "\tconvnet = conv_2d(convnet, 128, 3, activation='relu')\n",
        "\tconvnet = max_pool_2d(convnet, 3)\n",
        "\n",
        "\tconvnet = conv_2d(convnet, 32, 3, activation='relu')\n",
        "\tconvnet = max_pool_2d(convnet, 3)\n",
        "\n",
        "\tconvnet = conv_2d(convnet, 64, 3, activation='relu')\n",
        "\tconvnet = max_pool_2d(convnet, 3)\n",
        "\n",
        "\tconvnet = fully_connected(convnet, 1024, activation='relu')\n",
        "\tconvnet = dropout(convnet, 0.8)\n",
        "\t\n",
        "\tconvnet = fully_connected(convnet, 4, activation='softmax')\n",
        "\tconvnet = regression(convnet, optimizer='adam', learning_rate=LR, loss='categorical_crossentropy', name='targets')\n",
        "\n",
        "\tmodel = tflearn.DNN(convnet, tensorboard_dir='log')\n",
        "\n",
        "\tif os.path.exists('{}.meta'.format(MODEL_NAME)):\n",
        "\t\tmodel.load(MODEL_NAME)\n",
        "\t\tprint 'Model loaded successfully.'\n",
        "\telse:\n",
        "\t\tprint 'Error: Create a model using neural_network.py first.'\n",
        "\n",
        "\timg_data, img_name = verify_data[0], verify_data[1]\n",
        "\n",
        "\torig = img_data\n",
        "\tdata = img_data.reshape(IMG_SIZE, IMG_SIZE, 3)\n",
        "\n",
        "\tmodel_out = model.predict([data])[0]\n",
        "\n",
        "\tif np.argmax(model_out) == 0: str_label = 'Acne'\n",
        "\telif np.argmax(model_out) == 1: str_label = 'eczema'\n",
        "\telif np.argmax(model_out) == 2: str_label = 'malignant'\n",
        "\telif np.argmax(model_out) == 3: str_label = 'Psoriasis'\n",
        "\n",
        "\tif str_label =='Healthy': status = 'Healthy'\n",
        "\telse: status = 'Unhealthy'\n",
        "\n",
        "\tresult = 'Status: ' + status + '.'\n",
        "\t\n",
        "\tif (str_label != 'Healthy'): result += '\\nDisease: ' + str_label + '.'\n",
        "\n",
        "\treturn result\n",
        "\n",
        "def main():\n",
        "\tfilepath = raw_input(\"Enter Image File Name:\\n\")\n",
        "\tprint analysis(filepath)\n",
        "\n",
        "if __name__ == '__main__': main()"
      ],
      "execution_count": 29,
      "outputs": [
        {
          "output_type": "stream",
          "text": [
            "Enter Image File Name:\n",
            "acnetest1.jpg\n",
            "Model loaded successfully.\n",
            "Status: Unhealthy.\n",
            "Disease: Psoriasis.\n"
          ],
          "name": "stdout"
        }
      ]
    },
    {
      "metadata": {
        "id": "LEj8gnzKGD4x",
        "colab_type": "code",
        "colab": {}
      },
      "cell_type": "code",
      "source": [
        ""
      ],
      "execution_count": 0,
      "outputs": []
    }
  ]
}